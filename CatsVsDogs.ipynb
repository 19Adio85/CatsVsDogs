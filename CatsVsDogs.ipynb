{
 "cells": [
  {
   "cell_type": "code",
   "execution_count": 114,
   "id": "8b08ca50-3a5e-42ab-a085-222182926e16",
   "metadata": {
    "tags": []
   },
   "outputs": [
    {
     "name": "stderr",
     "output_type": "stream",
     "text": [
      "fatal: destination path 'CatsVsDogs' already exists and is not an empty directory.\n"
     ]
    }
   ],
   "source": [
    "!git clone https://github.com/19Adio85/CatsVsDogs.git"
   ]
  },
  {
   "cell_type": "markdown",
   "id": "79df6d5d-c15c-4703-b4dc-e3413ed99bac",
   "metadata": {},
   "source": [
    "# Importing the necessary libraries"
   ]
  },
  {
   "cell_type": "code",
   "execution_count": 115,
   "id": "82d73ee9-68a3-4d1c-b9f7-ae508e25c828",
   "metadata": {
    "tags": []
   },
   "outputs": [],
   "source": [
    "import shutil\n",
    "from shutil import copyfile\n",
    "import random\n",
    "import os\n",
    "import cv2\n",
    "import tensorflow as tf\n",
    "from tensorflow import keras\n",
    "from tensorflow.keras.preprocessing.image import ImageDataGenerator\n",
    "from tensorflow.keras import layers\n",
    "from tensorflow.keras.models import Sequential\n",
    "from tensorflow.keras.layers import Dense, Dropout, Activation, Flatten, MaxPooling2D, BatchNormalization, Dropout"
   ]
  },
  {
   "cell_type": "markdown",
   "id": "3e0041d5-fe09-4609-bef3-54b22616ad19",
   "metadata": {},
   "source": [
    "    Creating directories and prepering data to thiers proper destinations."
   ]
  },
  {
   "cell_type": "code",
   "execution_count": 98,
   "id": "3e973eca-596a-4ea3-92ae-741823c5ae6f",
   "metadata": {
    "collapsed": true,
    "jupyter": {
     "outputs_hidden": true
    },
    "tags": []
   },
   "outputs": [
    {
     "ename": "FileExistsError",
     "evalue": "[WinError 183] Nie można utworzyć pliku, który już istnieje: 'C:/Moje rzeczy/Kursy/CatsVsDogs/CatsVsDogs/data/train'",
     "output_type": "error",
     "traceback": [
      "\u001b[1;31m---------------------------------------------------------------------------\u001b[0m",
      "\u001b[1;31mFileExistsError\u001b[0m                           Traceback (most recent call last)",
      "Input \u001b[1;32mIn [98]\u001b[0m, in \u001b[0;36m<cell line: 5>\u001b[1;34m()\u001b[0m\n\u001b[0;32m      2\u001b[0m     shutil\u001b[38;5;241m.\u001b[39mrmtree(\u001b[38;5;124m'\u001b[39m\u001b[38;5;124mC:/Moje rzeczy/Kursy/CatsVsDogs/CatsVsDogs/data/temp\u001b[39m\u001b[38;5;124m'\u001b[39m)\n\u001b[0;32m      4\u001b[0m os\u001b[38;5;241m.\u001b[39mmkdir(\u001b[38;5;124m'\u001b[39m\u001b[38;5;124mC:/Moje rzeczy/Kursy/CatsVsDogs/CatsVsDogs/data/temp\u001b[39m\u001b[38;5;124m'\u001b[39m)\n\u001b[1;32m----> 5\u001b[0m \u001b[43mos\u001b[49m\u001b[38;5;241;43m.\u001b[39;49m\u001b[43mmkdir\u001b[49m\u001b[43m(\u001b[49m\u001b[38;5;124;43m'\u001b[39;49m\u001b[38;5;124;43mC:/Moje rzeczy/Kursy/CatsVsDogs/CatsVsDogs/data/train\u001b[39;49m\u001b[38;5;124;43m'\u001b[39;49m\u001b[43m)\u001b[49m\n\u001b[0;32m      6\u001b[0m os\u001b[38;5;241m.\u001b[39mmkdir(\u001b[38;5;124m'\u001b[39m\u001b[38;5;124mC:/Moje rzeczy/Kursy/CatsVsDogs/CatsVsDogs/data/valid\u001b[39m\u001b[38;5;124m'\u001b[39m)\n\u001b[0;32m      7\u001b[0m os\u001b[38;5;241m.\u001b[39mmkdir(\u001b[38;5;124m'\u001b[39m\u001b[38;5;124mC:/Moje rzeczy/Kursy/CatsVsDogs/CatsVsDogs/data/train/cat\u001b[39m\u001b[38;5;124m'\u001b[39m)\n",
      "\u001b[1;31mFileExistsError\u001b[0m: [WinError 183] Nie można utworzyć pliku, który już istnieje: 'C:/Moje rzeczy/Kursy/CatsVsDogs/CatsVsDogs/data/train'"
     ]
    }
   ],
   "source": [
    "os.mkdir('C:/Moje rzeczy/Kursy/CatsVsDogs/CatsVsDogs/data/temp')\n",
    "os.mkdir('C:/Moje rzeczy/Kursy/CatsVsDogs/CatsVsDogs/data/train')\n",
    "os.mkdir('C:/Moje rzeczy/Kursy/CatsVsDogs/CatsVsDogs/data/valid')\n",
    "os.mkdir('C:/Moje rzeczy/Kursy/CatsVsDogs/CatsVsDogs/data/train/cat')\n",
    "os.mkdir('C:/Moje rzeczy/Kursy/CatsVsDogs/CatsVsDogs/data/train/dog')\n",
    "os.mkdir('C:/Moje rzeczy/Kursy/CatsVsDogs/CatsVsDogs/data/valid/cat')\n",
    "os.mkdir('C:/Moje rzeczy/Kursy/CatsVsDogs/CatsVsDogs/data/valid/dog')\n",
    "\n",
    "if os.path.exists('C:/Moje rzeczy/Kursy/CatsVsDogs/CatsVsDogs/data/temp'):\n",
    "    shutil.rmtree('C:/Moje rzeczy/Kursy/CatsVsDogs/CatsVsDogs/data/temp')"
   ]
  },
  {
   "cell_type": "code",
   "execution_count": 99,
   "id": "ecbde47b-8b12-4c6f-94f2-e970ace15970",
   "metadata": {
    "tags": []
   },
   "outputs": [
    {
     "name": "stdout",
     "output_type": "stream",
     "text": [
      "12231\n",
      "12197\n",
      "8028\n",
      "7986\n"
     ]
    }
   ],
   "source": [
    "def train_valid_split(source, train_dir, valid_dir, valid_size):\n",
    "    files = []\n",
    "    for filename in os.listdir(source):\n",
    "        file = source + filename\n",
    "        if os.path.getsize(file) > 0:\n",
    "            files.append(filename)\n",
    "\n",
    "    valid_size = int(len(files) * valid_size)\n",
    "    train_size = len(files) - valid_size\n",
    "    shuffled_files = random.sample(files, len(files))\n",
    "    train_set = shuffled_files[:train_size]\n",
    "    valid_set = shuffled_files[train_size:]\n",
    "    \n",
    "    for filename in train_set:\n",
    "        filepath = source + filename\n",
    "        destination = train_dir + filename\n",
    "        copyfile(filepath, destination)\n",
    "        \n",
    "    for filename in valid_set:\n",
    "        filepath = source + filename\n",
    "        destination = valid_dir + filename\n",
    "        copyfile(filepath, destination)    \n",
    " \n",
    "  \n",
    "source = 'C:/Moje rzeczy/Kursy/CatsVsDogs/CatsVsDogs/data/PetImages/'\n",
    "train_dir = 'C:/Moje rzeczy/Kursy/CatsVsDogs/CatsVsDogs/data/train/'\n",
    "valid_dir = 'C:/Moje rzeczy/Kursy/CatsVsDogs/CatsVsDogs/data/valid/'\n",
    "\n",
    "train_valid_split(source+'Cat/', train_dir + 'cat/', valid_dir + 'cat/', valid_size=0.33)\n",
    "train_valid_split(source+'Dog/', train_dir + 'dog/', valid_dir + 'dog/', valid_size=0.33)\n",
    "\n",
    "print(len(os.listdir(train_dir + 'cat/')))\n",
    "print(len(os.listdir(train_dir + 'dog/')))\n",
    "print(len(os.listdir(valid_dir + 'cat/')))\n",
    "print(len(os.listdir(valid_dir + 'dog/')))"
   ]
  },
  {
   "cell_type": "code",
   "execution_count": 100,
   "id": "a158daaf-9091-4e2e-8582-6b9d08dc9edb",
   "metadata": {
    "tags": []
   },
   "outputs": [
    {
     "name": "stdout",
     "output_type": "stream",
     "text": [
      "Found 24426 images belonging to 2 classes.\n",
      "Found 16012 images belonging to 2 classes.\n"
     ]
    }
   ],
   "source": [
    "train_datagen = ImageDataGenerator(rescale=1./255.) \n",
    "train_data = train_datagen.flow_from_directory(train_dir, batch_size=256, class_mode='binary', target_size=(200, 200))\n",
    "\n",
    "valid_datagen = ImageDataGenerator(rescale=1./255.)\n",
    "valid_data = valid_datagen.flow_from_directory(valid_dir, batch_size=256, class_mode='binary', target_size=(200, 200))"
   ]
  },
  {
   "cell_type": "code",
   "execution_count": 106,
   "id": "a313c4e0-4816-44ae-9e3a-e3f068d7dea4",
   "metadata": {
    "tags": []
   },
   "outputs": [
    {
     "name": "stdout",
     "output_type": "stream",
     "text": [
      "Epoch 1/15\n",
      "96/96 [==============================] - 329s 3s/step - loss: 1.5204 - accuracy: 0.5256 - val_loss: 4.2840 - val_accuracy: 0.5014\n",
      "Epoch 2/15\n",
      "96/96 [==============================] - 324s 3s/step - loss: 0.6577 - accuracy: 0.6457 - val_loss: 1.6500 - val_accuracy: 0.5680\n",
      "Epoch 3/15\n",
      "96/96 [==============================] - 323s 3s/step - loss: 0.5884 - accuracy: 0.6982 - val_loss: 6.1720 - val_accuracy: 0.5094\n",
      "Epoch 4/15\n",
      "96/96 [==============================] - 329s 3s/step - loss: 0.4914 - accuracy: 0.7562 - val_loss: 9.4756 - val_accuracy: 0.5212\n",
      "Epoch 5/15\n",
      "96/96 [==============================] - 328s 3s/step - loss: 0.4399 - accuracy: 0.7924 - val_loss: 10.1906 - val_accuracy: 0.5400\n",
      "Epoch 6/15\n",
      "96/96 [==============================] - 324s 3s/step - loss: 0.3901 - accuracy: 0.8232 - val_loss: 3.8640 - val_accuracy: 0.6103\n",
      "Epoch 7/15\n",
      "96/96 [==============================] - 324s 3s/step - loss: 0.3417 - accuracy: 0.8474 - val_loss: 0.7577 - val_accuracy: 0.8000\n",
      "Epoch 8/15\n",
      "96/96 [==============================] - 327s 3s/step - loss: 0.2811 - accuracy: 0.8770 - val_loss: 0.2730 - val_accuracy: 0.8823\n",
      "Epoch 9/15\n",
      "96/96 [==============================] - 324s 3s/step - loss: 0.2294 - accuracy: 0.9023 - val_loss: 0.3737 - val_accuracy: 0.8291\n",
      "Epoch 10/15\n",
      "96/96 [==============================] - 326s 3s/step - loss: 0.1757 - accuracy: 0.9286 - val_loss: 0.1608 - val_accuracy: 0.9357\n",
      "Epoch 11/15\n",
      "96/96 [==============================] - 329s 3s/step - loss: 0.1279 - accuracy: 0.9499 - val_loss: 0.2659 - val_accuracy: 0.8851\n",
      "Epoch 12/15\n",
      "96/96 [==============================] - 329s 3s/step - loss: 0.0990 - accuracy: 0.9602 - val_loss: 0.2747 - val_accuracy: 0.8988\n",
      "Epoch 13/15\n",
      "96/96 [==============================] - 326s 3s/step - loss: 0.0747 - accuracy: 0.9698 - val_loss: 0.0986 - val_accuracy: 0.9648\n",
      "Epoch 14/15\n",
      "96/96 [==============================] - 330s 3s/step - loss: 0.0659 - accuracy: 0.9740 - val_loss: 0.0689 - val_accuracy: 0.9771\n",
      "Epoch 15/15\n",
      "96/96 [==============================] - 333s 3s/step - loss: 0.0552 - accuracy: 0.9779 - val_loss: 0.0699 - val_accuracy: 0.9762\n"
     ]
    }
   ],
   "source": [
    "model = Sequential()\n",
    "model.add(Conv2D(32, (3, 3), activation='relu', kernel_initializer='RandomUniform', padding='same', input_shape=(200, 200, 3)))\n",
    "model.add(BatchNormalization())\n",
    "model.add(MaxPooling2D (2, 2))\n",
    "model.add(Conv2D(64, (3, 3), activation='relu', kernel_initializer='RandomUniform', padding='same', strides = (2, 2)))\n",
    "model.add(BatchNormalization())\n",
    "model.add(MaxPooling2D (2, 2))\n",
    "model.add(Dropout(0.15))\n",
    "model.add(Flatten())\n",
    "model.add(Dense(128, activation='relu', kernel_initializer='RandomUniform'))\n",
    "model.add(Dense(1, activation='sigmoid'))\n",
    "\n",
    "opt = tf.keras.optimizers.Adam(lr=0.001)\n",
    "model.compile(optimizer=opt, loss='BinaryCrossentropy', metrics=['accuracy'])\n",
    "history = model.fit(train_data, epochs=15, batch_size=256, validation_data = valid_data)"
   ]
  },
  {
   "cell_type": "code",
   "execution_count": 108,
   "id": "b918fb04-4e75-483e-b46c-759046cf6bf7",
   "metadata": {},
   "outputs": [
    {
     "name": "stderr",
     "output_type": "stream",
     "text": [
      "warning: LF will be replaced by CRLF in CatsVsDogs.ipynb.\n",
      "The file will have its original line endings in your working directory\n",
      "warning: adding embedded git repository: CatsVsDogs\n",
      "hint: You've added another git repository inside your current repository.\n",
      "hint: Clones of the outer repository will not contain the contents of\n",
      "hint: the embedded repository and will not know how to obtain it.\n",
      "hint: If you meant to add a submodule, use:\n",
      "hint: \n",
      "hint: \tgit submodule add <url> CatsVsDogs\n",
      "hint: \n",
      "hint: If you added this path by mistake, you can remove it from the\n",
      "hint: index with:\n",
      "hint: \n",
      "hint: \tgit rm --cached CatsVsDogs\n",
      "hint: \n",
      "hint: See \"git help submodule\" for more information.\n"
     ]
    }
   ],
   "source": [
    "!git add ."
   ]
  },
  {
   "cell_type": "code",
   "execution_count": 111,
   "id": "cec2458b-567e-40b2-bf72-1971b8fef291",
   "metadata": {},
   "outputs": [
    {
     "name": "stdout",
     "output_type": "stream",
     "text": [
      "On branch main\n",
      "Your branch is ahead of 'origin/main' by 1 commit.\n",
      "  (use \"git push\" to publish your local commits)\n",
      "\n",
      "Changes not staged for commit:\n",
      "  (use \"git add <file>...\" to update what will be committed)\n",
      "  (use \"git restore <file>...\" to discard changes in working directory)\n",
      "\tmodified:   CatsVsDogs.ipynb\n",
      "\n",
      "no changes added to commit (use \"git add\" and/or \"git commit -a\")\n"
     ]
    }
   ],
   "source": [
    "!git commit -m \"Simple CNN with batch normalization and dropout\""
   ]
  },
  {
   "cell_type": "code",
   "execution_count": 113,
   "id": "cd247207-08d1-44f8-a871-a83a489fe983",
   "metadata": {},
   "outputs": [
    {
     "name": "stderr",
     "output_type": "stream",
     "text": [
      "To https://github.com/19Adio85/CatsVsDogs.git\n",
      " ! [rejected]          main -> main (fetch first)\n",
      "error: failed to push some refs to 'https://github.com/19Adio85/CatsVsDogs.git'\n",
      "hint: Updates were rejected because the remote contains work that you do\n",
      "hint: not have locally. This is usually caused by another repository pushing\n",
      "hint: to the same ref. You may want to first integrate the remote changes\n",
      "hint: (e.g., 'git pull ...') before pushing again.\n",
      "hint: See the 'Note about fast-forwards' in 'git push --help' for details.\n"
     ]
    }
   ],
   "source": [
    "!git push"
   ]
  }
 ],
 "metadata": {
  "kernelspec": {
   "display_name": "Python 3 (ipykernel)",
   "language": "python",
   "name": "python3"
  },
  "language_info": {
   "codemirror_mode": {
    "name": "ipython",
    "version": 3
   },
   "file_extension": ".py",
   "mimetype": "text/x-python",
   "name": "python",
   "nbconvert_exporter": "python",
   "pygments_lexer": "ipython3",
   "version": "3.10.4"
  }
 },
 "nbformat": 4,
 "nbformat_minor": 5
}
