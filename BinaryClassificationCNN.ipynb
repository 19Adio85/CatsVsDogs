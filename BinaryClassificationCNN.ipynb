{
 "cells": [
  {
   "cell_type": "markdown",
   "id": "5464b1e7-2868-47fb-b910-c57f6cde2286",
   "metadata": {},
   "source": [
    "<!--  -->Import of necessary libraries"
   ]
  },
  {
   "cell_type": "code",
   "execution_count": 12,
   "id": "61877cb4-613c-46f0-a929-ad896ce08732",
   "metadata": {},
   "outputs": [],
   "source": [
    "import shutil\n",
    "from shutil import copyfile\n",
    "import random\n",
    "import os\n",
    "import cv2\n",
    "import tensorflow as tf\n",
    "from tensorflow import keras\n",
    "from tensorflow.keras.preprocessing.image import ImageDataGenerator, DirectoryIterator\n",
    "from tensorflow.keras import layers\n",
    "from tensorflow.keras.models import Sequential\n",
    "from tensorflow.keras.layers import Dense, Dropout, Activation, Flatten, MaxPooling2D, BatchNormalization, Dropout,Conv2D\n",
    "import warnings\n",
    "warnings.filterwarnings(\"ignore\")\n",
    "import matplotlib.pyplot as plt\n",
    "import numpy as np"
   ]
  },
  {
   "cell_type": "markdown",
   "id": "ea49c1cf-5908-46da-af05-b62ec8c417c5",
   "metadata": {},
   "source": [
    "<!--  -->Folder preparation"
   ]
  },
  {
   "cell_type": "code",
   "execution_count": 13,
   "id": "5a59b589-62ba-491b-adb1-b98362f80534",
   "metadata": {},
   "outputs": [],
   "source": [
    "os.mkdir('C:/Moje rzeczy/Kursy/CatsVsDogs/CatsVsDogs/data/temp')\n",
    "os.mkdir('C:/Moje rzeczy/Kursy/CatsVsDogs/CatsVsDogs/data/train')\n",
    "os.mkdir('C:/Moje rzeczy/Kursy/CatsVsDogs/CatsVsDogs/data/test')\n",
    "os.mkdir('C:/Moje rzeczy/Kursy/CatsVsDogs/CatsVsDogs/data/train/cat')\n",
    "os.mkdir('C:/Moje rzeczy/Kursy/CatsVsDogs/CatsVsDogs/data/train/dog')\n",
    "os.mkdir('C:/Moje rzeczy/Kursy/CatsVsDogs/CatsVsDogs/data/test/cat')\n",
    "os.mkdir('C:/Moje rzeczy/Kursy/CatsVsDogs/CatsVsDogs/data/test/dog')\n",
    "\n",
    "if os.path.exists('C:/Moje rzeczy/Kursy/CatsVsDogs/CatsVsDogs/data/temp'):\n",
    "    shutil.rmtree('C:/Moje rzeczy/Kursy/CatsVsDogs/CatsVsDogs/data/temp')"
   ]
  },
  {
   "cell_type": "markdown",
   "id": "e3899931-277b-4f55-8d72-e36c12ea7d26",
   "metadata": {},
   "source": [
    "<!--  -->Indication of paths on the local drive"
   ]
  },
  {
   "cell_type": "code",
   "execution_count": 14,
   "id": "acd39bc9-0f3a-4cce-9693-5899f9638690",
   "metadata": {},
   "outputs": [],
   "source": [
    "dataset = 'C:/Moje rzeczy/Kursy/CatsVsDogs/CatsVsDogs/data/PetImages/'\n",
    "train_path = 'C:/Moje rzeczy/Kursy/CatsVsDogs/CatsVsDogs/data/train/'\n",
    "test_path = 'C:/Moje rzeczy/Kursy/CatsVsDogs/CatsVsDogs/data/test/'"
   ]
  },
  {
   "cell_type": "markdown",
   "id": "83da0b80-aefc-4691-8379-6ba0c5cf41fd",
   "metadata": {},
   "source": [
    "<!--  -->Division of datasets into test and training datasets"
   ]
  },
  {
   "cell_type": "code",
   "execution_count": 15,
   "id": "22644852-1c5e-48f3-b29e-15304a245357",
   "metadata": {
    "tags": []
   },
   "outputs": [],
   "source": [
    "def spliting_data(dataset, train_path, test_path, valid_size):\n",
    "    files = []\n",
    "    for filename in os.listdir(dataset):\n",
    "        file = dataset + filename\n",
    "        if os.path.getsize(file) > 0:\n",
    "            files.append(filename)\n",
    "\n",
    "    valid_size = int(len(files) * valid_size)\n",
    "    train_size = len(files) - valid_size\n",
    "    shuffled_files = random.sample(files, len(files))\n",
    "    train_set = shuffled_files[:train_size]\n",
    "    valid_set = shuffled_files[train_size:]\n",
    "    \n",
    "    for filename in train_set:\n",
    "        filepath = dataset + filename\n",
    "        destination = train_path + filename\n",
    "        copyfile(filepath, destination)\n",
    "        \n",
    "    for filename in valid_set:\n",
    "        filepath = dataset + filename\n",
    "        destination = test_path + filename\n",
    "        copyfile(filepath, destination)     \n",
    "\n",
    "\n",
    "spliting_data(dataset+'Cat/', train_path + 'cat/', test_path + 'cat/', valid_size=0.25)\n",
    "spliting_data(dataset+'Dog/', train_path + 'dog/', test_path + 'dog/', valid_size=0.25)"
   ]
  },
  {
   "cell_type": "code",
   "execution_count": 16,
   "id": "80926bc4-1408-483c-a771-052ed7b17ead",
   "metadata": {},
   "outputs": [
    {
     "name": "stdout",
     "output_type": "stream",
     "text": [
      "9369\n",
      "9353\n",
      "3122\n",
      "3117\n"
     ]
    }
   ],
   "source": [
    "print(len(os.listdir(train_path + 'cat/')))\n",
    "print(len(os.listdir(train_path + 'dog/')))\n",
    "print(len(os.listdir(test_path + 'cat/')))\n",
    "print(len(os.listdir(test_path + 'dog/')))"
   ]
  },
  {
   "cell_type": "markdown",
   "id": "4dcc517b-6c4a-4f63-9b1e-b3106b7c351b",
   "metadata": {},
   "source": [
    "<!--  -->Converting images to tensors"
   ]
  },
  {
   "cell_type": "code",
   "execution_count": 17,
   "id": "b99c13a7-052c-4556-9528-e541bb2511bd",
   "metadata": {},
   "outputs": [
    {
     "name": "stdout",
     "output_type": "stream",
     "text": [
      "Found 18720 images belonging to 2 classes.\n",
      "Found 6239 images belonging to 2 classes.\n"
     ]
    }
   ],
   "source": [
    "train_gen = ImageDataGenerator(rescale=1./255.) \n",
    "train_data = train_gen.flow_from_directory(train_path, batch_size=256, class_mode='binary', target_size=(150, 150))\n",
    "\n",
    "test_gen = ImageDataGenerator(rescale=1./255.)\n",
    "valid_data = test_gen.flow_from_directory(test_path, batch_size=256, class_mode='binary', target_size=(150, 150))"
   ]
  },
  {
   "cell_type": "markdown",
   "id": "43214869-e506-49ad-a0ca-f7b336639b8a",
   "metadata": {
    "tags": []
   },
   "source": [
    "<!--  -->Model building with CNN"
   ]
  },
  {
   "cell_type": "code",
   "execution_count": 18,
   "id": "d41d27c3-85ad-43fc-8519-7682302353b5",
   "metadata": {},
   "outputs": [
    {
     "name": "stdout",
     "output_type": "stream",
     "text": [
      "Model: \"sequential\"\n",
      "_________________________________________________________________\n",
      " Layer (type)                Output Shape              Param #   \n",
      "=================================================================\n",
      " conv2d (Conv2D)             (None, 150, 150, 16)      448       \n",
      "                                                                 \n",
      " batch_normalization (BatchN  (None, 150, 150, 16)     64        \n",
      " ormalization)                                                   \n",
      "                                                                 \n",
      " max_pooling2d (MaxPooling2D  (None, 75, 75, 16)       0         \n",
      " )                                                               \n",
      "                                                                 \n",
      " conv2d_1 (Conv2D)           (None, 38, 38, 32)        4640      \n",
      "                                                                 \n",
      " batch_normalization_1 (Batc  (None, 38, 38, 32)       128       \n",
      " hNormalization)                                                 \n",
      "                                                                 \n",
      " max_pooling2d_1 (MaxPooling  (None, 19, 19, 32)       0         \n",
      " 2D)                                                             \n",
      "                                                                 \n",
      " dropout (Dropout)           (None, 19, 19, 32)        0         \n",
      "                                                                 \n",
      " flatten (Flatten)           (None, 11552)             0         \n",
      "                                                                 \n",
      " dense (Dense)               (None, 64)                739392    \n",
      "                                                                 \n",
      " dense_1 (Dense)             (None, 1)                 65        \n",
      "                                                                 \n",
      "=================================================================\n",
      "Total params: 744,737\n",
      "Trainable params: 744,641\n",
      "Non-trainable params: 96\n",
      "_________________________________________________________________\n"
     ]
    }
   ],
   "source": [
    "model = Sequential()\n",
    "model.add(Conv2D(16, (3, 3), activation='relu', kernel_initializer='RandomUniform', padding='same', input_shape=(150, 150, 3)))\n",
    "model.add(BatchNormalization())\n",
    "model.add(MaxPooling2D (2, 2))\n",
    "model.add(Conv2D(32, (3, 3), activation='relu', kernel_initializer='RandomUniform', padding='same', strides = (2, 2)))\n",
    "model.add(BatchNormalization())\n",
    "model.add(MaxPooling2D (2, 2))\n",
    "model.add(Dropout(0.15))\n",
    "model.add(Flatten())\n",
    "model.add(Dense(64, activation='relu', kernel_initializer='RandomUniform'))\n",
    "model.add(Dense(1, activation='sigmoid'))\n",
    "model.summary()"
   ]
  },
  {
   "cell_type": "markdown",
   "id": "9905ac2c-86f8-41e0-b294-d906278fcfea",
   "metadata": {},
   "source": [
    "<!--  -->Compile and train the model"
   ]
  },
  {
   "cell_type": "code",
   "execution_count": 19,
   "id": "4d81fbc6-1a31-4882-b328-793bc9e77b8e",
   "metadata": {},
   "outputs": [
    {
     "name": "stdout",
     "output_type": "stream",
     "text": [
      "Epoch 1/11\n",
      "74/74 [==============================] - 169s 2s/step - loss: 0.7437 - accuracy: 0.6280 - val_loss: 0.6856 - val_accuracy: 0.5342\n",
      "Epoch 2/11\n",
      "74/74 [==============================] - 80s 1s/step - loss: 0.5420 - accuracy: 0.7211 - val_loss: 0.7119 - val_accuracy: 0.5517\n",
      "Epoch 3/11\n",
      "74/74 [==============================] - 80s 1s/step - loss: 0.4727 - accuracy: 0.7750 - val_loss: 0.7429 - val_accuracy: 0.5637\n",
      "Epoch 4/11\n",
      "74/74 [==============================] - 81s 1s/step - loss: 0.4196 - accuracy: 0.8056 - val_loss: 0.8614 - val_accuracy: 0.5674\n",
      "Epoch 5/11\n",
      "74/74 [==============================] - 80s 1s/step - loss: 0.3516 - accuracy: 0.8436 - val_loss: 1.4016 - val_accuracy: 0.5419\n",
      "Epoch 6/11\n",
      "74/74 [==============================] - 80s 1s/step - loss: 0.2858 - accuracy: 0.8801 - val_loss: 1.2710 - val_accuracy: 0.5813\n",
      "Epoch 7/11\n",
      "74/74 [==============================] - 80s 1s/step - loss: 0.2272 - accuracy: 0.9060 - val_loss: 1.0518 - val_accuracy: 0.6754\n",
      "Epoch 8/11\n",
      "74/74 [==============================] - 80s 1s/step - loss: 0.1769 - accuracy: 0.9321 - val_loss: 0.9216 - val_accuracy: 0.7136\n",
      "Epoch 9/11\n",
      "74/74 [==============================] - 81s 1s/step - loss: 0.1218 - accuracy: 0.9546 - val_loss: 0.6181 - val_accuracy: 0.7782\n",
      "Epoch 10/11\n",
      "74/74 [==============================] - 80s 1s/step - loss: 0.1004 - accuracy: 0.9637 - val_loss: 0.6767 - val_accuracy: 0.7742\n",
      "Epoch 11/11\n",
      "74/74 [==============================] - 80s 1s/step - loss: 0.0682 - accuracy: 0.9765 - val_loss: 0.8358 - val_accuracy: 0.7687\n"
     ]
    }
   ],
   "source": [
    "opt = tf.keras.optimizers.Adam(lr=0.001)\n",
    "model.compile(optimizer=opt, loss='BinaryCrossentropy', metrics=['accuracy'])\n",
    "history = model.fit(train_data, epochs=11, batch_size=128, validation_data = valid_data)"
   ]
  },
  {
   "cell_type": "markdown",
   "id": "c3bdaab2-50ff-4505-9f4a-005761d2fd02",
   "metadata": {},
   "source": [
    "<!--  -->Visualizing the results"
   ]
  },
  {
   "cell_type": "code",
   "execution_count": 20,
   "id": "f441b8f9-b010-4f8d-867a-73dab4f4aaf6",
   "metadata": {},
   "outputs": [
    {
     "data": {
      "text/plain": [
       "Text(0.5, 1.0, 'Accuracy Curves')"
      ]
     },
     "execution_count": 20,
     "metadata": {},
     "output_type": "execute_result"
    },
    {
     "data": {
      "image/png": "[encoded data removed]",
      "text/plain": [
       "<Figure size 720x576 with 1 Axes>"
      ]
     },
     "metadata": {
      "needs_background": "light"
     },
     "output_type": "display_data"
    }
   ],
   "source": [
    "plt.figure(figsize=[10,8])\n",
    "plt.grid()\n",
    "plt.plot(history.history['accuracy'], 'r', linewidth=3.0)\n",
    "plt.plot(history.history['val_accuracy'], 'b',linewidth=3.0)\n",
    "plt.legend(['Training Accuracy', 'Validation Accuracy'],fontsize=18)\n",
    "plt.xlabel('Epochs ',fontsize=16)\n",
    "plt.ylabel('Accuracy',fontsize=16)\n",
    "plt.title('Accuracy Curves',fontsize=16)"
   ]
  },
  {
   "cell_type": "code",
   "execution_count": 21,
   "id": "6ab84730-8e8d-443e-822b-7adc12731984",
   "metadata": {},
   "outputs": [
    {
     "data": {
      "text/plain": [
       "Text(0.5, 1.0, 'Loss Curves')"
      ]
     },
     "execution_count": 21,
     "metadata": {},
     "output_type": "execute_result"
    },
    {
     "data": {
      "image/png": "[encoded data removed]",
      "text/plain": [
       "<Figure size 576x432 with 1 Axes>"
      ]
     },
     "metadata": {
      "needs_background": "light"
     },
     "output_type": "display_data"
    }
   ],
   "source": [
    "plt.figure(figsize=[8,6])\n",
    "plt.grid()\n",
    "plt.plot(history.history['loss'],'r',linewidth=3.0)\n",
    "plt.plot(history.history['val_loss'],'b',linewidth=3.0)\n",
    "plt.legend(['Training loss', 'Validation Loss'],fontsize=18)\n",
    "plt.xlabel('Epochs ',fontsize=16)\n",
    "plt.ylabel('Loss',fontsize=16)\n",
    "plt.title('Loss Curves',fontsize=16)"
   ]
  },
  {
   "cell_type": "markdown",
   "id": "ebf9408d-629e-4c41-af7c-df9633d8f890",
   "metadata": {},
   "source": [
    "<!--  -->Prediction on exemple datasets contains 16 random pictures of cats and dogs"
   ]
  },
  {
   "cell_type": "code",
   "execution_count": 22,
   "id": "adc5371b-de31-46ef-b7c6-890dedbf52e4",
   "metadata": {},
   "outputs": [
    {
     "name": "stdout",
     "output_type": "stream",
     "text": [
      "Found 16 images belonging to 1 classes.\n"
     ]
    }
   ],
   "source": [
    "exemp_path = 'C:/Moje rzeczy/Kursy/CatsVsDogs/CatsVsDogs/data/exemp/'\n",
    "example_gen = ImageDataGenerator(rescale=1./255.)\n",
    "examples = example_gen.flow_from_directory(exemp_path, batch_size=16, class_mode='binary', target_size=(150, 150))"
   ]
  },
  {
   "cell_type": "code",
   "execution_count": 23,
   "id": "fd31ff56-993a-4123-b9f4-d48779670adc",
   "metadata": {},
   "outputs": [
    {
     "name": "stdout",
     "output_type": "stream",
     "text": [
      "1/1 [==============================] - 0s 136ms/step\n",
      "Kot\n",
      "Kot\n",
      "Pies\n",
      "Pies\n",
      "Kot\n",
      "Kot\n",
      "Kot\n",
      "Kot\n",
      "Pies\n",
      "Kot\n",
      "Pies\n",
      "Kot\n",
      "Pies\n",
      "Pies\n",
      "Kot\n",
      "Pies\n"
     ]
    }
   ],
   "source": [
    "predcitions = model.predict(examples)\n",
    "examamples_array = np.array([predcitions])\n",
    "examples_data = (examamples_array > 0.5).astype(int)\n",
    "for ex in np.nditer(examples_data):\n",
    "    if ex == 1:\n",
    "        print('Pies')\n",
    "    else:\n",
    "        print(\"Kot\")"
   ]
  }
 ],
 "metadata": {
  "kernelspec": {
   "display_name": "Python 3 (ipykernel)",
   "language": "python",
   "name": "python3"
  },
  "language_info": {
   "codemirror_mode": {
    "name": "ipython",
    "version": 3
   },
   "file_extension": ".py",
   "mimetype": "text/x-python",
   "name": "python",
   "nbconvert_exporter": "python",
   "pygments_lexer": "ipython3",
   "version": "3.10.4"
  }
 },
 "nbformat": 4,
 "nbformat_minor": 5
}
